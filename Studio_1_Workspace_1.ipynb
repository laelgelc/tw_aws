{
 "cells": [
  {
   "cell_type": "markdown",
   "id": "97c87891-7b5d-4868-b970-553170437bd3",
   "metadata": {
    "tags": []
   },
   "source": [
    "<center>\n",
    "<img src=\"https://laelgelcpublic.s3.sa-east-1.amazonaws.com/lael_50_years_narrow_white.png.no_years.400px_96dpi.png\" width=\"300\" alt=\"LAEL 50 years logo\">\n",
    "<h3>APPLIED LINGUISTICS GRADUATE PROGRAMME (LAEL)</h3>\n",
    "</center>\n",
    "<hr>"
   ]
  },
  {
   "cell_type": "code",
   "execution_count": 1,
   "id": "d4fdab29-3992-4193-808f-12a5f2b3585c",
   "metadata": {
    "execution": {
     "iopub.execute_input": "2023-12-05T00:23:21.621081Z",
     "iopub.status.busy": "2023-12-05T00:23:21.620754Z",
     "iopub.status.idle": "2023-12-05T00:24:09.608993Z",
     "shell.execute_reply": "2023-12-05T00:24:09.608280Z",
     "shell.execute_reply.started": "2023-12-05T00:23:21.621053Z"
    },
    "tags": []
   },
   "outputs": [
    {
     "data": {
      "application/vnd.jupyter.widget-view+json": {
       "model_id": "dbd4d403d258405f9d54cf8d2e210b2c",
       "version_major": 2,
       "version_minor": 0
      },
      "text/plain": [
       "VBox()"
      ]
     },
     "metadata": {},
     "output_type": "display_data"
    },
    {
     "name": "stdout",
     "output_type": "stream",
     "text": [
      "Starting Spark application\n"
     ]
    },
    {
     "data": {
      "text/html": [
       "<table>\n<tbody><tr><th>ID</th><th>YARN Application ID</th><th>Kind</th><th>State</th><th>Spark UI</th><th>Driver log</th><th>User</th><th>Current session?</th></tr><tr><td>1</td><td>application_1701728143746_0002</td><td>pyspark</td><td>idle</td><td><a target=\"_blank\" href=\"http://ip-172-31-32-135.sa-east-1.compute.internal:20888/proxy/application_1701728143746_0002/\" class=\"emr-proxy-link j-41CTL1K4WICA application_1701728143746_0002\" emr-resource=\"j-41CTL1K4WICA\n\" application-id=\"application_1701728143746_0002\">Link</a></td><td><a target=\"_blank\" href=\"http://ip-172-31-43-43.sa-east-1.compute.internal:8042/node/containerlogs/container_1701728143746_0002_01_000001/livy\">Link</a></td><td>None</td><td>✔</td></tr></tbody></table>"
      ],
      "text/plain": [
       "<IPython.core.display.HTML object>"
      ]
     },
     "metadata": {},
     "output_type": "display_data"
    },
    {
     "data": {
      "application/vnd.jupyter.widget-view+json": {
       "model_id": "",
       "version_major": 2,
       "version_minor": 0
      },
      "text/plain": [
       "FloatProgress(value=0.0, bar_style='info', description='Progress:', layout=Layout(height='25px', width='50%'),…"
      ]
     },
     "metadata": {},
     "output_type": "display_data"
    },
    {
     "name": "stdout",
     "output_type": "stream",
     "text": [
      "SparkSession available as 'spark'.\n"
     ]
    },
    {
     "data": {
      "application/vnd.jupyter.widget-view+json": {
       "model_id": "",
       "version_major": 2,
       "version_minor": 0
      },
      "text/plain": [
       "FloatProgress(value=0.0, bar_style='info', description='Progress:', layout=Layout(height='25px', width='50%'),…"
      ]
     },
     "metadata": {},
     "output_type": "display_data"
    }
   ],
   "source": [
    "from pyspark.sql import SparkSession\n",
    "\n",
    "def calculate_red_violations(data_source, output_uri):\n",
    "    \"\"\"\n",
    "    Processes sample food establishment inspection data and queries the data to find the top 10 establishments\n",
    "    with the most Red violations from 2006 to 2020.\n",
    "\n",
    "    :param data_source: The URI of your food establishment data CSV, such as 's3://DOC-EXAMPLE-BUCKET/food-establishment-data.csv'.\n",
    "    :param output_uri: The URI where output is written, such as 's3://DOC-EXAMPLE-BUCKET/restaurant_violation_results'.\n",
    "    \"\"\"\n",
    "    with SparkSession.builder.appName(\"Calculate Red Health Violations\").getOrCreate() as spark:\n",
    "        # Load the restaurant violation CSV data\n",
    "        if data_source is not None:\n",
    "            restaurants_df = spark.read.option(\"header\", \"true\").csv(data_source)\n",
    "\n",
    "        # Create an in-memory DataFrame to query\n",
    "        restaurants_df.createOrReplaceTempView(\"restaurant_violations\")\n",
    "\n",
    "        # Create a DataFrame of the top 10 restaurants with the most Red violations\n",
    "        top_red_violation_restaurants = spark.sql(\"\"\"SELECT name, count(*) AS total_red_violations \n",
    "          FROM restaurant_violations \n",
    "          WHERE violation_type = 'RED' \n",
    "          GROUP BY name \n",
    "          ORDER BY total_red_violations DESC LIMIT 10\"\"\")\n",
    "\n",
    "        # Write the results to the specified output URI\n",
    "        top_red_violation_restaurants.write.option(\"header\", \"true\").mode(\"overwrite\").csv(output_uri)\n",
    "\n",
    "# Set the values for data_source and output_uri\n",
    "data_source = 's3://gelc/food_establishment_data.csv'\n",
    "output_uri = 's3://gelc/restaurant_violation_results'\n",
    "\n",
    "# Call the function with the provided values\n",
    "calculate_red_violations(data_source, output_uri)"
   ]
  }
 ],
 "metadata": {
  "kernelspec": {
   "display_name": "PySpark",
   "language": "python",
   "name": "pysparkkernel"
  },
  "language_info": {
   "codemirror_mode": {
    "name": "python",
    "version": 3
   },
   "file_extension": ".py",
   "mimetype": "text/x-python",
   "name": "pyspark",
   "pygments_lexer": "python3"
  }
 },
 "nbformat": 4,
 "nbformat_minor": 5
}
